{
 "cells": [
  {
   "cell_type": "markdown",
   "id": "1e5dacad",
   "metadata": {},
   "source": [
    "<p style=\"text-align:center\"> <h1>Understanding <code>tuples</code> and <code>lists</code> by describing and manipulating tuple combinations and list data structures.</h1></p>\n"
   ]
  },
  {
   "cell_type": "markdown",
   "id": "9db48e36",
   "metadata": {},
   "source": [
    "<p>Tuples and lists are both data structures in Python that allow you to store multiple values in a single variable. However, they have some key differences in terms of mutability and functionality.</p>"
   ]
  },
  {
   "cell_type": "markdown",
   "id": "ed9ff5cc",
   "metadata": {},
   "source": [
    "<h3>Tuples: </h3>"
   ]
  },
  {
   "cell_type": "markdown",
   "id": "2bedd642",
   "metadata": {},
   "source": [
    "<li>A tuple is an ordered collection of elements, enclosed in parentheses ().</li>\n",
    "<li>Tuples are immutable, which means you cannot modify the elements once the tuple is created. However, you can access the elements using indexing.</li>\n",
    "<li>Tuples can contain elements of different data types, such as integers, floats, strings, or even other tuples.</li>\n",
    "<li>Tuples are typically used when you want to group related values together, and you don't expect the values to change.</li>\n",
    "    <p>Here's an example of creating and accessing elements in a tuple:</p>"
   ]
  },
  {
   "cell_type": "code",
   "execution_count": 2,
   "id": "8f1d8589",
   "metadata": {},
   "outputs": [
    {
     "name": "stdout",
     "output_type": "stream",
     "text": [
      "7\n",
      "Hey there\n"
     ]
    }
   ],
   "source": [
    "# Creating a tuple\n",
    "my_tuple = (7, 2, 3, \"Hey there\", 12.5)\n",
    "\n",
    "# Accessing elements\n",
    "print(my_tuple[0])  # Output: 7\n",
    "print(my_tuple[3])  # Output: Hey there\n"
   ]
  },
  {
   "cell_type": "markdown",
   "id": "a4cd4917",
   "metadata": {},
   "source": [
    "<h3>Lists:</h3>"
   ]
  },
  {
   "cell_type": "markdown",
   "id": "2b5938ac",
   "metadata": {},
   "source": [
    "<li>A list is an ordered collection of elements, enclosed in square brackets [].</li>\n",
    "<li>Unlike tuples, lists are mutable, meaning you can modify, add, or remove elements after the list is created.</li>\n",
    "<li>Lists can also store elements of different data types.</li>\n",
    "<li>Lists have many built-in methods that allow you to manipulate and modify the list easily.</li>\n",
    "<p>Here's an example of creating and manipulating a list:</p>"
   ]
  },
  {
   "cell_type": "code",
   "execution_count": 3,
   "id": "1b5993fc",
   "metadata": {},
   "outputs": [
    {
     "name": "stdout",
     "output_type": "stream",
     "text": [
      "1\n",
      "3\n",
      "[1, 10, 3, 4, 5]\n",
      "[1, 10, 3, 4, 5, 6]\n",
      "[1, 10, 4, 5, 6]\n"
     ]
    }
   ],
   "source": [
    "# Creating a list\n",
    "my_list = [1, 2, 3, 4, 5]\n",
    "\n",
    "# Accessing elements\n",
    "print(my_list[0])  # Output: 1\n",
    "print(my_list[2])  # Output: 3\n",
    "\n",
    "# Modifying elements\n",
    "my_list[1] = 10\n",
    "print(my_list)  # Output: [1, 10, 3, 4, 5]\n",
    "\n",
    "# Adding elements\n",
    "my_list.append(6)\n",
    "print(my_list)  # Output: [1, 10, 3, 4, 5, 6]\n",
    "\n",
    "# Removing elements\n",
    "my_list.remove(3)\n",
    "print(my_list)  # Output: [1, 10, 4, 5, 6]\n"
   ]
  },
  {
   "cell_type": "markdown",
   "id": "0d8e3d9f",
   "metadata": {},
   "source": [
    "<p>Both tuples and lists can be combined or nested within each other. For example, you can have a tuple that contains lists, or a list that contains tuples. </p>"
   ]
  },
  {
   "cell_type": "code",
   "execution_count": 4,
   "id": "c377a887",
   "metadata": {},
   "outputs": [],
   "source": [
    "# Tuple of lists\n",
    "my_tuple = ([1, 2, 3], [4, 5, 6])\n",
    "\n",
    "# List of tuples\n",
    "my_list = [(1, 2), (3, 4), (5, 6)]\n"
   ]
  },
  {
   "cell_type": "markdown",
   "id": "3c8baa6c",
   "metadata": {},
   "source": [
    "<p>In summary, tuples are immutable and used for fixed collections of related values, while lists are mutable and offer more flexibility for adding, removing, and modifying elements.</p>"
   ]
  },
  {
   "cell_type": "code",
   "execution_count": null,
   "id": "474a687c",
   "metadata": {},
   "outputs": [],
   "source": []
  }
 ],
 "metadata": {
  "kernelspec": {
   "display_name": "Python 3 (ipykernel)",
   "language": "python",
   "name": "python3"
  },
  "language_info": {
   "codemirror_mode": {
    "name": "ipython",
    "version": 3
   },
   "file_extension": ".py",
   "mimetype": "text/x-python",
   "name": "python",
   "nbconvert_exporter": "python",
   "pygments_lexer": "ipython3",
   "version": "3.10.9"
  }
 },
 "nbformat": 4,
 "nbformat_minor": 5
}
