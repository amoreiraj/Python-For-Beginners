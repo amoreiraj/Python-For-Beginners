{
 "cells": [
  {
   "cell_type": "markdown",
   "id": "88225c46",
   "metadata": {},
   "source": [
    "# RegEx"
   ]
  },
  {
   "cell_type": "markdown",
   "id": "8f988e87",
   "metadata": {},
   "source": [
    "<p> In Python, RegEx (stand for Regular Expression) is a tool for matching and handling strings. Regular expressions are sequences of characters that define a search pattern. They are primarily used for matching and manipulating strings </p>\n",
    "<p>This RegEx module provides several functions for working with regular expressions, including <code>search, split, findall,</code> and <code>sub</code>. </p>\n",
    "<p>Python provides a built-in module called <code>re</code>, which allows you to work with regular expressions. \n",
    "First, import the <code>re</code> module\n",
    "</p> "
   ]
  },
  {
   "cell_type": "code",
   "execution_count": 7,
   "id": "7103e231",
   "metadata": {},
   "outputs": [],
   "source": [
    "import re"
   ]
  },
  {
   "cell_type": "markdown",
   "id": "d3f3db4e",
   "metadata": {},
   "source": [
    "<p>The search() function searches for specified patterns within a string. Here is an example that explains how to use the search() function to search for the word \"Jackson\" in the string \"Michael Jackson is the best\".</p>"
   ]
  },
  {
   "cell_type": "code",
   "execution_count": 11,
   "id": "a2d6e401",
   "metadata": {},
   "outputs": [
    {
     "name": "stdout",
     "output_type": "stream",
     "text": [
      "Pattern found!\n"
     ]
    }
   ],
   "source": [
    "string = \"The world is a beautiful place\" \n",
    "match = r\"beautiful\" # Define the pattern to search for\n",
    "\n",
    "# Use the search() function to search for the pattern in the string\n",
    "match = re.search(match, string)\n",
    "\n",
    "# Check if a match was found\n",
    "if match:\n",
    "    print(\"Pattern found!\")\n",
    "else:\n",
    "    print(\"Pattern not found.\")\n"
   ]
  },
  {
   "cell_type": "markdown",
   "id": "551346c5",
   "metadata": {},
   "source": [
    "<h3>Regex special sequences (a.k.a. Character Classes) </h3> \n",
    "https://www3.ntu.edu.sg/home/ehchua/programming/howto/Regexe.html"
   ]
  },
  {
   "cell_type": "code",
   "execution_count": null,
   "id": "72589060",
   "metadata": {},
   "outputs": [],
   "source": []
  },
  {
   "cell_type": "code",
   "execution_count": null,
   "id": "a18ebbaf",
   "metadata": {},
   "outputs": [],
   "source": []
  }
 ],
 "metadata": {
  "kernelspec": {
   "display_name": "Python 3 (ipykernel)",
   "language": "python",
   "name": "python3"
  },
  "language_info": {
   "codemirror_mode": {
    "name": "ipython",
    "version": 3
   },
   "file_extension": ".py",
   "mimetype": "text/x-python",
   "name": "python",
   "nbconvert_exporter": "python",
   "pygments_lexer": "ipython3",
   "version": "3.10.9"
  }
 },
 "nbformat": 4,
 "nbformat_minor": 5
}
