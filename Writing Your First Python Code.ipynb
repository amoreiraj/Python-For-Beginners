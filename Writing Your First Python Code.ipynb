{
 "cells": [
  {
   "cell_type": "markdown",
   "id": "f5785157",
   "metadata": {},
   "source": [
    "<p style=\"text-align:center\"> <h1>Python Basics</h1></p>\n",
    "\n",
    "\n",
    "## Writing Your First Python Code\n",
    "\n",
    "\n",
    "Estimated time needed: **40** minutes\n",
    "    \n",
    "\n",
    "## Objectives\n",
    "\n",
    "After completing this exercise you will be able to:\n",
    "\n",
    "* Write basic code in Python\n",
    "* Work with various types of data in Python\n",
    "* Manipulate different types of data in Python\n",
    "* Use expressions and variables to perform operations"
   ]
  },
  {
   "cell_type": "markdown",
   "id": "c703ce2b",
   "metadata": {},
   "source": [
    "<style>\n",
    ".container {\n",
    "  background-color: lightpink !important;\n",
    "}\n",
    "\n",
    "<h2>Table of Contents</h2>\n",
    "<div class=\"alert alert-block alert-info\" style=\"margin-top: 10px\">\n",
    "    <ul>\n",
    "        <li>\n",
    "            <a href=\"#hello\">Introduction: Saying \"Hello\" to the World in Python</a>\n",
    "            <ul>\n",
    "                <li><a href=\"version\">Determining the Python Version</a></li>\n",
    "                <li><a href=\"comments\">Writing Comments in Python</a></li>\n",
    "                <li><a href=\"errors\">Understanding Errors in Python</a></li>\n",
    "                <li><a href=\"python_error\">Predicting Errors in Python</a></li>\n",
    "                <li><a href=\"exercise\">Exercise: Your First Python Program</a></li>\n",
    "            </ul>\n",
    "        </li>\n",
    "        <li>\n",
    "            <a href=\"#types_objects\">Types of Objects in Python</a>\n",
    "            <ul>\n",
    "                <li><a href=\"int\">Integers</a></li>\n",
    "                <li><a href=\"float\">Floats</a></li>\n",
    "                <li><a href=\"convert\">Converting Between Object Types</a></li>\n",
    "                <li><a href=\"bool\">Boolean Data Type</a></li>\n",
    "                <li><a href=\"exer_type\">Exercise: Working with Types</a></li>\n",
    "            </ul>\n",
    "        </li>\n",
    "        <li>\n",
    "            <a href=\"#expressions\">Expressions and Variables</a>\n",
    "            <ul>\n",
    "                <li><a href=\"exp\">Understanding Expressions and Variables</a></li>\n",
    "                <li><a href=\"exer_exp\">Exercise: Practicing with Expressions and Variables</a></li>\n",
    "                         </ul>\n",
    "        </li>\n",
    "    </ul>\n",
    "    <p>\n",
    "        Estimated time required: <strong>40 minutes</strong>\n",
    "    </p>\n",
    "</div>\n",
    "<hr>\n",
    "</style>\n",
    "\n"
   ]
  },
  {
   "cell_type": "markdown",
   "id": "1a1bbc05",
   "metadata": {},
   "source": [
    "<style>\n",
    "body {\n",
    "  background-color: lightpink;\n",
    "}\n",
    "</style>\n",
    "\n",
    "<h2>Table of Contents</h2>\n",
    "<div class=\"alert alert-block alert-info\" style=\"margin-top: 10px\">\n",
    "    <ul>\n",
    "        <li>\n",
    "            <a href=\"#hello\">Introduction: Saying \"Hello\" to the World in Python</a>\n",
    "            <ul>\n",
    "                <li><a href=\"version\">Determining the Python Version</a></li>\n",
    "                <li><a href=\"comments\">Writing Comments in Python</a></li>\n",
    "                <li><a href=\"errors\">Understanding Errors in Python</a></li>\n",
    "                <li><a href=\"python_error\">Predicting Errors in Python</a></li>\n",
    "                <li><a href=\"exercise\">Exercise: Your First Python Program</a></li>\n",
    "            </ul>\n",
    "        </li>\n",
    "        <li>\n",
    "            <a href=\"#types_objects\">Types of Objects in Python</a>\n",
    "            <ul>\n",
    "                <li><a href=\"int\">Integers</a></li>\n",
    "                <li><a href=\"float\">Floats</a></li>\n",
    "                <li><a href=\"convert\">Converting Between Object Types</a></li>\n",
    "                <li><a href=\"bool\">Boolean Data Type</a></li>\n",
    "                <li><a href=\"exer_type\">Exercise: Working with Types</a></li>\n",
    "            </ul>\n",
    "        </li>\n",
    "        <li>\n",
    "            <a href=\"#expressions\">Expressions and Variables</a>\n",
    "            <ul>\n",
    "                <li><a href=\"exp\">Understanding Expressions and Variables</a></li>\n",
    "                <li><a href=\"exer_exp\">Exercise: Practicing with Expressions and Variables</a></li>\n",
    "                         </ul>\n",
    "        </li>\n",
    "    </ul>\n",
    "    <p>\n",
    "        Estimated time required: <strong>40 minutes</strong>\n",
    "    </p>\n",
    "</div>\n",
    "<hr>\n",
    "\n"
   ]
  },
  {
   "cell_type": "markdown",
   "id": "3b699e4f",
   "metadata": {},
   "source": [
    "<hr/>\n",
    "<div class=\"alert alert-success alertsuccess\" style=\"margin-top: 20px\">\n",
    "    [Tip]: To execute the Python code in the code cell below, click on the cell to select it and press <kbd>Shift</kbd> + <kbd>Enter</kbd>.\n",
    "</div>\n",
    "<hr/>"
   ]
  },
  {
   "cell_type": "code",
   "execution_count": 136,
   "id": "c11401a1",
   "metadata": {},
   "outputs": [
    {
     "name": "stdout",
     "output_type": "stream",
     "text": [
      "Hello, Python!\n"
     ]
    }
   ],
   "source": [
    "#Your First Python Output\n",
    "print('Hello, Python!')\n",
    "\n",
    "\n",
    "\n"
   ]
  },
  {
   "cell_type": "markdown",
   "id": "81dc0a83",
   "metadata": {},
   "source": [
    "After running the code cell above, you will see the output: <code>Hello, Python!</code>. Congratulations on running your first Python code!"
   ]
  },
  {
   "cell_type": "markdown",
   "id": "838e37d8",
   "metadata": {},
   "source": [
    "<hr/>\n",
    "<div class=\"alert alert-success alertsuccess\" style=\"margin-top: 20px\">\n",
    "    [Tip:] <code>print()</code> is a built-in function in Python used to display output. In this case, we passed the string <code>'Hello, Python!'</code> as an argument to the <code>print()</code> function to instruct Python on what to display.\n",
    "</div>\n",
    "<hr/>"
   ]
  },
  {
   "cell_type": "markdown",
   "id": "51d3524f",
   "metadata": {},
   "source": [
    "# Determining the Python Version\n",
    "There are two popular versions of the Python programming language in use today: Python 2 and Python 3. The Python community has decided to move on from Python 2 to Python 3, and many popular libraries have announced that they will no longer support Python 2.\n",
    "\n",
    "Since Python 3 is the future, in this course we will be using it exclusively. How do we know that our notebook is executed by a Python 3 runtime? We can look in the top-right hand corner of this notebook and see \"Python 3\".\n",
    "\n",
    "We can also ask Python directly and obtain a detailed answer. Try executing the following code:"
   ]
  },
  {
   "cell_type": "code",
   "execution_count": 137,
   "id": "30edf132",
   "metadata": {},
   "outputs": [
    {
     "name": "stdout",
     "output_type": "stream",
     "text": [
      "3.10.9 | packaged by Anaconda, Inc. | (main, Mar  1 2023, 18:18:15) [MSC v.1916 64 bit (AMD64)]\n"
     ]
    }
   ],
   "source": [
    "# Check the Python Version\n",
    "\n",
    "import sys\n",
    "print(sys.version)"
   ]
  },
  {
   "cell_type": "markdown",
   "id": "11df496b",
   "metadata": {},
   "source": [
    "<hr/>\n",
    "<div class=\"alert alert-success alertsuccess\" style=\"margin-top: 20px\">\n",
    "[Tip]: To execute the Python code in the code cell below, click on the cell to select it and press <kbd>Shift</kbd> + <kbd>Enter</kbd>.\n",
    "</div>\n",
    "<hr/>"
   ]
  },
  {
   "cell_type": "markdown",
   "id": "95fd6195",
   "metadata": {},
   "source": [
    "## Writing comments in Python\n",
    "In addition to writing code, note that it's always a good idea to add comments to your code. It will help others understand what you were trying to accomplish (the reason why you wrote a given snippet of code). Not only does this help other people understand your code, it can also serve as a reminder to you when you come back to it weeks or months later.\n",
    "\n",
    "To write comments in Python, use the number symbol # before writing your comment. When you run your code, Python will ignore everything past the # on a given line"
   ]
  },
  {
   "cell_type": "code",
   "execution_count": 138,
   "id": "ec082a02",
   "metadata": {},
   "outputs": [
    {
     "name": "stdout",
     "output_type": "stream",
     "text": [
      "Hello, Python!\n"
     ]
    }
   ],
   "source": [
    "# Practice on writing comments\n",
    "\n",
    "print('Hello, Python!') # This line prints a string\n",
    "# print('Hi') #Python will igonre this code and store it as a comment "
   ]
  },
  {
   "cell_type": "markdown",
   "id": "a06cb6dd",
   "metadata": {},
   "source": [
    "## Understanding Errors in Python\n",
    "Everyone makes mistakes. For many types of mistakes, Python will tell you that you have made a mistake by giving you an error message. It is important to read error messages carefully to really understand where you made a mistake and how you may go about correcting it.\n",
    "\n",
    "For example, if you spell print as frint, Python will display an error message. Give it a try:"
   ]
  },
  {
   "cell_type": "code",
   "execution_count": 139,
   "id": "3bf383de",
   "metadata": {},
   "outputs": [
    {
     "ename": "NameError",
     "evalue": "name 'frint' is not defined",
     "output_type": "error",
     "traceback": [
      "\u001b[1;31m---------------------------------------------------------------------------\u001b[0m",
      "\u001b[1;31mNameError\u001b[0m                                 Traceback (most recent call last)",
      "Cell \u001b[1;32mIn[139], line 3\u001b[0m\n\u001b[0;32m      1\u001b[0m \u001b[38;5;66;03m# Print string as error message\u001b[39;00m\n\u001b[1;32m----> 3\u001b[0m \u001b[43mfrint\u001b[49m(\u001b[38;5;124m\"\u001b[39m\u001b[38;5;124mHello, Python!\u001b[39m\u001b[38;5;124m\"\u001b[39m)\n",
      "\u001b[1;31mNameError\u001b[0m: name 'frint' is not defined"
     ]
    }
   ],
   "source": [
    "# Print string as error message\n",
    "\n",
    "frint(\"Hello, Python!\")"
   ]
  },
  {
   "cell_type": "markdown",
   "id": "026c0dc7",
   "metadata": {},
   "source": [
    "The error message tells you:\n",
    "\n",
    "where the error occurred (more useful in large notebook cells or scripts), and\n",
    "what kind of error it was (NameError)\n",
    "Here, Python attempted to run the function frint, but could not determine what frint is since it's not a built-in function and it has not been previously defined by us either.\n",
    "\n",
    "You'll notice that if we make a different type of mistake, by forgetting to close the string, we'll obtain a different error (i.e., a SyntaxError). Try it below:\n",
    "\n"
   ]
  },
  {
   "cell_type": "code",
   "execution_count": 140,
   "id": "4518a6db",
   "metadata": {},
   "outputs": [
    {
     "ename": "SyntaxError",
     "evalue": "unterminated string literal (detected at line 3) (3628399183.py, line 3)",
     "output_type": "error",
     "traceback": [
      "\u001b[1;36m  Cell \u001b[1;32mIn[140], line 3\u001b[1;36m\u001b[0m\n\u001b[1;33m    print(\"Hello, Python!)\u001b[0m\n\u001b[1;37m          ^\u001b[0m\n\u001b[1;31mSyntaxError\u001b[0m\u001b[1;31m:\u001b[0m unterminated string literal (detected at line 3)\n"
     ]
    }
   ],
   "source": [
    "# Try to see built-in error message\n",
    "\n",
    "print(\"Hello, Python!)"
   ]
  },
  {
   "cell_type": "markdown",
   "id": "1a462522",
   "metadata": {},
   "source": [
    "## Does Python know about your error before it runs your code?\n",
    "\n",
    "Python is what is called an interpreted language. Compiled languages examine your entire program at compile time, and are able to warn you about a whole class of errors prior to execution. In contrast, Python interprets your script line by line as it executes it. Python will stop executing the entire program when it encounters an error (unless the error is expected and handled by the programmer, a more advanced subject that we'll cover later on in this course).\n",
    "\n",
    "Try to run the code in the cell below and see what happens:"
   ]
  },
  {
   "cell_type": "code",
   "execution_count": 141,
   "id": "365e62e3",
   "metadata": {},
   "outputs": [
    {
     "name": "stdout",
     "output_type": "stream",
     "text": [
      "This will be printed\n"
     ]
    },
    {
     "ename": "NameError",
     "evalue": "name 'frint' is not defined",
     "output_type": "error",
     "traceback": [
      "\u001b[1;31m---------------------------------------------------------------------------\u001b[0m",
      "\u001b[1;31mNameError\u001b[0m                                 Traceback (most recent call last)",
      "Cell \u001b[1;32mIn[141], line 4\u001b[0m\n\u001b[0;32m      1\u001b[0m \u001b[38;5;66;03m# Print string and error to see the running order\u001b[39;00m\n\u001b[0;32m      3\u001b[0m \u001b[38;5;28mprint\u001b[39m(\u001b[38;5;124m\"\u001b[39m\u001b[38;5;124mThis will be printed\u001b[39m\u001b[38;5;124m\"\u001b[39m)\n\u001b[1;32m----> 4\u001b[0m \u001b[43mfrint\u001b[49m(\u001b[38;5;124m\"\u001b[39m\u001b[38;5;124mThis will cause an error\u001b[39m\u001b[38;5;124m\"\u001b[39m)\n\u001b[0;32m      5\u001b[0m \u001b[38;5;28mprint\u001b[39m(\u001b[38;5;124m\"\u001b[39m\u001b[38;5;124mThis will NOT be printed\u001b[39m\u001b[38;5;124m\"\u001b[39m)\n",
      "\u001b[1;31mNameError\u001b[0m: name 'frint' is not defined"
     ]
    }
   ],
   "source": [
    "# Print string and error to see the running order\n",
    "\n",
    "print(\"This will be printed\")\n",
    "frint(\"This will cause an error\")\n",
    "print(\"This will NOT be printed\")"
   ]
  },
  {
   "cell_type": "markdown",
   "id": "43166692",
   "metadata": {},
   "source": [
    "<h3 id=\"exercise\">Exercise: Your First Python Program</h3>\n"
   ]
  },
  {
   "cell_type": "markdown",
   "id": "1b71f18a",
   "metadata": {},
   "source": [
    "<p>Generations of programmers have started their coding careers by simply printing \"Hello, world!\". You will be following in their footsteps.</p>\n",
    "<p>In the code cell below, use the <code>print()</code> function to print out the phrase: <code>Hello, world!</code></p>"
   ]
  },
  {
   "cell_type": "markdown",
   "id": "811d09e5",
   "metadata": {},
   "source": [
    "# Write your code below. Don't forget to press Shift+Enter to execute the cell\n"
   ]
  },
  {
   "cell_type": "markdown",
   "id": "9fc66c49",
   "metadata": {},
   "source": [
    "<details><summary>Click here for the solution</summary>\n",
    "\n",
    "```python\n",
    "print(\"Hello, world!\")\n",
    "\n",
    "```\n",
    "\n",
    "</details>"
   ]
  },
  {
   "cell_type": "code",
   "execution_count": 142,
   "id": "53f24f32",
   "metadata": {},
   "outputs": [
    {
     "name": "stdout",
     "output_type": "stream",
     "text": [
      "Hello, World!\n"
     ]
    }
   ],
   "source": [
    "print(\"Hello, World!\")"
   ]
  },
  {
   "cell_type": "markdown",
   "id": "b19cbab1",
   "metadata": {},
   "source": [
    "<p>Now, let's enhance your code with a comment. In the code cell below, print out the phrase: <code>Hello, world!</code> and comment it with the phrase <code>Print the traditional hello world</code> all in one line of code.</p>"
   ]
  },
  {
   "cell_type": "code",
   "execution_count": 143,
   "id": "cba0f89c",
   "metadata": {},
   "outputs": [],
   "source": [
    "# Write your code below. Don't forget to press Shift+Enter to execute the cell\n"
   ]
  },
  {
   "cell_type": "markdown",
   "id": "5d235dca",
   "metadata": {},
   "source": [
    "<details><summary>Click here for the solution</summary>\n",
    "\n",
    "```python\n",
    "print(\"Hello, world!\") # Print the traditional hello world\n",
    "\n",
    "```\n",
    "\n",
    "</details>"
   ]
  },
  {
   "cell_type": "markdown",
   "id": "448ecfab",
   "metadata": {},
   "source": [
    "<h2 id=\"types_objects\" align=\"center\">Types of objects in Python</h2>\n"
   ]
  },
  {
   "cell_type": "markdown",
   "id": "a3bf8e17",
   "metadata": {},
   "source": [
    "<p>Python is an object-oriented language. There are many different types of objects in Python. Let's start with the most common object types: <i>strings</i>, <i>integers</i> and <i>floats</i>. Anytime you write words (text) in Python, you're using <i>character strings</i> (strings for short). The most common numbers, on the other hand, are <i>integers</i> (e.g. -1, 0, 100) and <i>floats</i>, which represent real numbers (e.g. 3.14, -42.0).</p>\n"
   ]
  },
  {
   "cell_type": "markdown",
   "id": "c047e7ef",
   "metadata": {},
   "source": [
    "<a align=\"center\">\n",
    "    <img src=\"Python-Basics-Chapter-Numbers-in-Python_Watermarked.70cee8925cbf.webp\" width=\"600\">\n",
    "</a>\n"
   ]
  },
  {
   "cell_type": "markdown",
   "id": "affaeb18",
   "metadata": {},
   "source": [
    "**The right of the image above belongs to Real Python https://realpython.com/python-numbers/"
   ]
  },
  {
   "cell_type": "markdown",
   "id": "af657f79",
   "metadata": {},
   "source": [
    "<p>The following code cells contain some examples.</p>\n"
   ]
  },
  {
   "cell_type": "code",
   "execution_count": null,
   "id": "71463ff3",
   "metadata": {},
   "outputs": [],
   "source": [
    "# Integer\n",
    "\n",
    "11"
   ]
  },
  {
   "cell_type": "code",
   "execution_count": null,
   "id": "b67f2618",
   "metadata": {},
   "outputs": [],
   "source": [
    "# Float\n",
    "\n",
    "2.14"
   ]
  },
  {
   "cell_type": "code",
   "execution_count": null,
   "id": "985805d9",
   "metadata": {},
   "outputs": [],
   "source": [
    "# String\n",
    "\n",
    "\"Hello, Python 101!\""
   ]
  },
  {
   "cell_type": "markdown",
   "id": "55489d4b",
   "metadata": {},
   "source": [
    "<p>You can get Python to tell you the type of an expression by using the built-in <code>type()</code> function. You'll notice that Python refers to integers as <code>int</code>, floats as <code>float</code>, and character strings as <code>str</code>.</p>"
   ]
  },
  {
   "cell_type": "code",
   "execution_count": null,
   "id": "4d83ed95",
   "metadata": {},
   "outputs": [],
   "source": [
    "# Type of 12\n",
    "\n",
    "type(12)"
   ]
  },
  {
   "cell_type": "code",
   "execution_count": null,
   "id": "114cb7d8",
   "metadata": {},
   "outputs": [],
   "source": [
    "# Type of 2.14\n",
    "\n",
    "type(2.14)"
   ]
  },
  {
   "cell_type": "code",
   "execution_count": null,
   "id": "12156585",
   "metadata": {},
   "outputs": [],
   "source": [
    "# Type of \"Hello, Python 101!\"\n",
    "\n",
    "type(\"Hello, Python 101!\")"
   ]
  },
  {
   "cell_type": "markdown",
   "id": "b0ed8bdf",
   "metadata": {},
   "source": [
    "<p>In the code cell below, use the <code>type()</code> function to check the object type of <code>12.0</code>.\n"
   ]
  },
  {
   "cell_type": "code",
   "execution_count": null,
   "id": "ecfbea2b",
   "metadata": {},
   "outputs": [],
   "source": [
    "# Write your code below. Don't forget to press Shift+Enter to execute the cell\n"
   ]
  },
  {
   "cell_type": "markdown",
   "id": "50537387",
   "metadata": {},
   "source": [
    "<details><summary>Click here for the solution</summary>\n",
    "\n",
    "```python\n",
    "type(12.0)\n",
    "\n",
    "```\n",
    "\n",
    "</details>"
   ]
  },
  {
   "cell_type": "markdown",
   "id": "f2888d6e",
   "metadata": {},
   "source": [
    "<details><summary>Trying it</summary>\n",
    "\n",
    "```python\n",
    "type(25.3F)\n",
    "```\n",
    "</details>"
   ]
  },
  {
   "cell_type": "markdown",
   "id": "40c7880a",
   "metadata": {},
   "source": [
    "<h3 id=\"int\">Integers</h3>"
   ]
  },
  {
   "cell_type": "markdown",
   "id": "35dcfda6",
   "metadata": {},
   "source": [
    "<p>Here are some examples of integers. Integers can be negative or positive numbers:</p>\n"
   ]
  },
  {
   "cell_type": "markdown",
   "id": "42d33bb6",
   "metadata": {},
   "source": [
    "<p>We can verify this is the case by using, you guessed it, the <code>type()</code> function:"
   ]
  },
  {
   "cell_type": "code",
   "execution_count": 144,
   "id": "bb1e1a6a",
   "metadata": {},
   "outputs": [
    {
     "data": {
      "text/plain": [
       "int"
      ]
     },
     "execution_count": 144,
     "metadata": {},
     "output_type": "execute_result"
    }
   ],
   "source": [
    "# Print the type of -1\n",
    "\n",
    "type(-1)"
   ]
  },
  {
   "cell_type": "code",
   "execution_count": 145,
   "id": "76a2e60a",
   "metadata": {},
   "outputs": [
    {
     "data": {
      "text/plain": [
       "int"
      ]
     },
     "execution_count": 145,
     "metadata": {},
     "output_type": "execute_result"
    }
   ],
   "source": [
    "# Print the type of 4\n",
    "\n",
    "type(4)"
   ]
  },
  {
   "cell_type": "code",
   "execution_count": 146,
   "id": "ef887831",
   "metadata": {},
   "outputs": [
    {
     "data": {
      "text/plain": [
       "int"
      ]
     },
     "execution_count": 146,
     "metadata": {},
     "output_type": "execute_result"
    }
   ],
   "source": [
    "# Print the type of 0\n",
    "\n",
    "type(0)"
   ]
  },
  {
   "cell_type": "markdown",
   "id": "6f131aa8",
   "metadata": {},
   "source": [
    "<h3 id=\"float\">Floats</h3> "
   ]
  },
  {
   "cell_type": "markdown",
   "id": "64c08d12",
   "metadata": {},
   "source": [
    "<p>Floats represent real numbers; they are a superset of integer numbers but also include \"numbers with decimals\". There are some limitations when it comes to machines representing real numbers, but floating point numbers are a good representation in most cases. You can learn more about the specifics of floats for your runtime environment, by checking the value of <code>sys.float_info</code>. This will also tell you what's the largest and smallest number that can be represented with them.</p>\n",
    "\n",
    "<p>Once again, can test some examples with the <code>type()</code> function:\n"
   ]
  },
  {
   "cell_type": "code",
   "execution_count": null,
   "id": "642fe1c9",
   "metadata": {},
   "outputs": [],
   "source": [
    "# Print the type of 1.0\n",
    "\n",
    "type(1.0) # Notice that 1 is an int, and 1.0 is a float"
   ]
  },
  {
   "cell_type": "code",
   "execution_count": null,
   "id": "9bfdf4a3",
   "metadata": {},
   "outputs": [],
   "source": [
    "# System settings about float type\n",
    "\n",
    "sys.float_info"
   ]
  },
  {
   "cell_type": "markdown",
   "id": "2bf02dfe",
   "metadata": {},
   "source": [
    "<h3 id=\"convert\">Converting Between Object Types type</h3>\n"
   ]
  },
  {
   "cell_type": "markdown",
   "id": "e8aaadfa",
   "metadata": {},
   "source": [
    "<p>You can change the type of the object in Python; this is called typecasting. For example, you can convert an <i>integer</i> into a <i>float</i> (e.g. 2 to 2.0).</p>\n",
    "<p>Let's try it:</p>"
   ]
  },
  {
   "cell_type": "code",
   "execution_count": null,
   "id": "f4e14131",
   "metadata": {},
   "outputs": [],
   "source": [
    "# Verify that this is an integer\n",
    "\n",
    "type(2)"
   ]
  },
  {
   "cell_type": "markdown",
   "id": "97e3da3d",
   "metadata": {},
   "source": [
    "<h4>Converting integers to floats</h4>\n",
    "<p>Let's cast integer 2 to float:</p>"
   ]
  },
  {
   "cell_type": "code",
   "execution_count": null,
   "id": "d0775f9d",
   "metadata": {},
   "outputs": [],
   "source": [
    "# Convert 4 to a float\n",
    "\n",
    "float(4)"
   ]
  },
  {
   "cell_type": "code",
   "execution_count": null,
   "id": "586deb7b",
   "metadata": {},
   "outputs": [],
   "source": [
    "# Convert integer 4 to a float and check its type\n",
    "\n",
    "type(float(4))"
   ]
  },
  {
   "cell_type": "markdown",
   "id": "2abd155a",
   "metadata": {},
   "source": [
    "<p>When we transform an integer into a float, the actual value or significand of the number remains unchanged. However, when we convert a float into an integer, there is a possibility of losing certain information. For instance, if we cast the float 4.1 as an integer, we will obtain the value 4, thereby losing the decimal portion (0.1) in the process.</p>"
   ]
  },
  {
   "cell_type": "code",
   "execution_count": null,
   "id": "7318be08",
   "metadata": {},
   "outputs": [],
   "source": [
    "# Casting 4.1 to integer will result in loss of information\n",
    "\n",
    "int(4.1)"
   ]
  },
  {
   "cell_type": "markdown",
   "id": "51c756d2",
   "metadata": {},
   "source": [
    "<h4>Converting Strings to Integers or Floats</h4>"
   ]
  },
  {
   "cell_type": "markdown",
   "id": "ecd423c6",
   "metadata": {},
   "source": [
    "<p>On certain occasions, we may encounter a situation where a string contains a numerical value. In such cases, we can utilize the <code>int()</code> function to convert the string representation of the number into an integer:</p>"
   ]
  },
  {
   "cell_type": "markdown",
   "id": "ad8a8070",
   "metadata": {},
   "source": [
    "<p>To convert a string into an integer, you can use the int() function. For example, if you have the string '1', you can convert it to an integer as follows: </p>"
   ]
  },
  {
   "cell_type": "code",
   "execution_count": null,
   "id": "9b8096d6",
   "metadata": {},
   "outputs": [],
   "source": [
    "int('1')\n",
    "\n"
   ]
  },
  {
   "cell_type": "markdown",
   "id": "b3d1d9c6",
   "metadata": {},
   "source": [
    "<p>Another way to do it, would be: </p>"
   ]
  },
  {
   "cell_type": "code",
   "execution_count": null,
   "id": "19e434ef",
   "metadata": {},
   "outputs": [],
   "source": [
    "string_number = '1'\n",
    "integer_number = int(string_number)\n",
    "print(string_number)"
   ]
  },
  {
   "cell_type": "markdown",
   "id": "3cec1861",
   "metadata": {},
   "source": [
    "<p>After executing this code, the variable integer_number will contain the value 1, which is the integer representation of the string '1'.</p>"
   ]
  },
  {
   "cell_type": "markdown",
   "id": "88b2c85b",
   "metadata": {},
   "source": [
    "<p>However, if you attempt to convert a string that does not perfectly match a numerical value, an error will occur. Please try the following example:</p>"
   ]
  },
  {
   "cell_type": "code",
   "execution_count": null,
   "id": "0bc9adac",
   "metadata": {},
   "outputs": [],
   "source": [
    "# Convert a string into an integer with error\n",
    "\n",
    "int('1 or 2 people')"
   ]
  },
  {
   "cell_type": "markdown",
   "id": "b56145c1",
   "metadata": {},
   "source": [
    "<p> Executing this code will raise a <b>ValueError</b> because the string <b>'1 or 2 </b>people' cannot be directly converted into an integer. To perform a successful conversion, the string must represent a valid numerical value without any additional characters or words.</p>"
   ]
  },
  {
   "cell_type": "markdown",
   "id": "cb24ca91",
   "metadata": {},
   "source": [
    "<p>Another option is to convert strings that contain floating-point numbers into <i>float</i> objects:</p>"
   ]
  },
  {
   "cell_type": "markdown",
   "id": "28f95a79",
   "metadata": {},
   "source": [
    "<p>To convert the string \"1.2\" into a float, you can use the float() function. Here's an example:</p>"
   ]
  },
  {
   "cell_type": "code",
   "execution_count": null,
   "id": "5421e7a7",
   "metadata": {},
   "outputs": [],
   "source": [
    "float('1.2')"
   ]
  },
  {
   "cell_type": "markdown",
   "id": "938c3403",
   "metadata": {},
   "source": [
    "<p>After executing this code, the variable float will contain the value 1.2, which is the float representation of the string \"1.2\". </p>"
   ]
  },
  {
   "cell_type": "markdown",
   "id": "c48b6144",
   "metadata": {},
   "source": [
    "\n",
    "<hr/>\n",
    "<div class=\"alert alert-success alertsuccess\" style=\"margin-top: 20px\">\n",
    "    [Tip:] Please note that strings can be represented using either single quotes (<code>'1.2'</code>) or double quotes (<code>\"1.2\"</code>), but you cannot mix both styles (e.g., <code>\"1.2'</code>).\n",
    "</div>\n",
    "<hr/>"
   ]
  },
  {
   "cell_type": "markdown",
   "id": "1c92bb95",
   "metadata": {},
   "source": [
    "<h4>Converting Numbers to Strings</h4>"
   ]
  },
  {
   "cell_type": "markdown",
   "id": "0a2537ac",
   "metadata": {},
   "source": [
    "\n",
    "<p>Indeed, if we can convert strings to numbers, it is logical to assume that we can also convert numbers to strings.</p>"
   ]
  },
  {
   "cell_type": "markdown",
   "id": "819e83b1",
   "metadata": {},
   "source": [
    "<p>To convert an integer to a string, you can use the str() function. Here's an example:</P>"
   ]
  },
  {
   "cell_type": "code",
   "execution_count": null,
   "id": "8bfccdc2",
   "metadata": {},
   "outputs": [],
   "source": [
    "#Converting an Integer to a String\n",
    "str(4)"
   ]
  },
  {
   "cell_type": "markdown",
   "id": "2958bc1a",
   "metadata": {},
   "source": [
    "<p> After executing this code, the variable str will contain the value '4', which is the string representation of the integer 4.</p>"
   ]
  },
  {
   "cell_type": "markdown",
   "id": "54a22193",
   "metadata": {},
   "source": [
    "<P> We can also convert float into strings as well: </p>"
   ]
  },
  {
   "cell_type": "markdown",
   "id": "b90c5b1f",
   "metadata": {},
   "source": [
    "#Convert a float to a string\n",
    "\n",
    "str(6.2)"
   ]
  },
  {
   "cell_type": "markdown",
   "id": "d50b9ac7",
   "metadata": {},
   "source": [
    "<h3 id=\"bool\">Boolean data type</h3>\n"
   ]
  },
  {
   "cell_type": "markdown",
   "id": "5c559bff",
   "metadata": {},
   "source": [
    "<p>The boolean data type is indeed important in Python. A boolean object can have one of two values: <code>True</code> or <code>False</code>:</p>"
   ]
  },
  {
   "cell_type": "markdown",
   "id": "768d8e67",
   "metadata": {},
   "source": [
    "<details><summary>Click here for the solution</summary>\n",
    "\n",
    "#Value true\n",
    "True\n",
    "#Value False\n",
    "False\n",
    "    \n",
    "</details>"
   ]
  },
  {
   "cell_type": "markdown",
   "id": "357337c5",
   "metadata": {},
   "source": [
    "\n",
    "<p>It is important to pay attention to the case sensitivity of boolean values. The value <code>True</code> must be written with an uppercase \"T\", and similarly, <code>False</code> must be written with an uppercase \"F\". Boolean values in Python are case sensitive.</p>"
   ]
  },
  {
   "cell_type": "markdown",
   "id": "8abdf3d6",
   "metadata": {},
   "source": [
    "<p> Let's explore the casting of boolean values to other data types. Here's an example:</p>"
   ]
  },
  {
   "cell_type": "code",
   "execution_count": null,
   "id": "ea7a0f86",
   "metadata": {},
   "outputs": [],
   "source": [
    "# Casting True to integer and float\n",
    "bool_true = True\n",
    "int_true = int(bool_true) # Casting True to integer.\n",
    "#The variable int_true will hold the integer value 1 after casting the boolean value True to an integer. \n",
    "float_true = float(bool_true) # Casting True to float\n",
    "#Similarly, the variable float_true will hold the float value 1.0 after casting the boolean value True to a float.\n",
    "#or just:\n",
    "float(True) # Convert True to float\n",
    "\n",
    "# Casting False to integer and float\n",
    "bool_false = False\n",
    "int_false = int(bool_false)\n",
    "float_false = float(bool_false)\n",
    "\n",
    "# Casting 1 to boolean\n",
    "num_one = 1\n",
    "bool_one = bool(num_one)\n",
    "\n",
    "# Casting 0 to boolean\n",
    "num_zero = 0\n",
    "bool_zero = bool(num_zero)\n",
    "\n",
    "# Convert True to float\n",
    "float(True)\n",
    "\n",
    "print(int_true)       # Output: 1\n",
    "print(float_true)     # Output: 1.0\n",
    "print(int_false)      # Output: 0\n",
    "print(float_false)    # Output: 0.0\n",
    "print(bool_one)       # Output: True\n",
    "print(bool_zero)      # Output: False\n"
   ]
  },
  {
   "cell_type": "markdown",
   "id": "e737a7f6",
   "metadata": {},
   "source": [
    "<h3 id=\"exer_type\">Exercise: Types</h3>"
   ]
  },
  {
   "cell_type": "markdown",
   "id": "dfe9fe09",
   "metadata": {},
   "source": [
    "<p>What is the data type of the result of: <code>9 / 3</code>?</p>"
   ]
  },
  {
   "cell_type": "code",
   "execution_count": null,
   "id": "ab065adc",
   "metadata": {},
   "outputs": [],
   "source": [
    "# Write your code below. Don't forget to press Shift+Enter to execute the cell\n"
   ]
  },
  {
   "cell_type": "markdown",
   "id": "73306fd1",
   "metadata": {},
   "source": [
    "<details><summary>Click here for the solution</summary>\n",
    "\n",
    "```python\n",
    "type(9/3) # float\n",
    "\n",
    "```\n",
    "\n",
    "</details>"
   ]
  },
  {
   "cell_type": "code",
   "execution_count": null,
   "id": "8c7ec776",
   "metadata": {},
   "outputs": [],
   "source": [
    "type(9/3)"
   ]
  },
  {
   "cell_type": "markdown",
   "id": "fba9b60e",
   "metadata": {},
   "source": [
    "<h2 id=\"expressions\">Expression and Variables</h2>"
   ]
  },
  {
   "cell_type": "markdown",
   "id": "1a11175b",
   "metadata": {},
   "source": [
    "<h3 id=\"exp\">Understanding Expressions and Variables</h3>"
   ]
  },
  {
   "cell_type": "markdown",
   "id": "bace625d",
   "metadata": {},
   "source": [
    "<p>In Python, expressions can involve operations among compatible types, such as integers and floats. For example, you can perform basic arithmetic operations, like adding multiple numbers together:</p>"
   ]
  },
  {
   "cell_type": "markdown",
   "id": "b698a1ce",
   "metadata": {},
   "source": [
    "<p>To perform the addition operation using the expression 28 + 12 + 26 + 90, you simply add the numbers together: </p>\n",
    "\n"
   ]
  },
  {
   "cell_type": "code",
   "execution_count": null,
   "id": "a55b58de",
   "metadata": {},
   "outputs": [],
   "source": [
    "add =  28 + 12 + 90 #variable 'add' stores the expressions 28 + 12 + 90 \n",
    "print(add) #prints its value"
   ]
  },
  {
   "cell_type": "markdown",
   "id": "a1a07320",
   "metadata": {},
   "source": [
    "<p>We can perform subtraction operations using the minus operator. In this case the result is a negative number:</p>\n"
   ]
  },
  {
   "cell_type": "code",
   "execution_count": null,
   "id": "eb134a64",
   "metadata": {},
   "outputs": [],
   "source": [
    "# Subtraction operation expression\n",
    "sub = 10 - 800 #variable 'sub' stores the expressions 10 - 800\n",
    "print(sub) #prints its value"
   ]
  },
  {
   "cell_type": "markdown",
   "id": "8cf9daf4",
   "metadata": {},
   "source": [
    "<p>We can perform division with the forward slash:</p>"
   ]
  },
  {
   "cell_type": "code",
   "execution_count": null,
   "id": "f1fd8e0a",
   "metadata": {},
   "outputs": [],
   "source": [
    "div = 10/2 #variable 'div' stores the expressions 10/2\n",
    "print(div)#prints its value"
   ]
  },
  {
   "cell_type": "markdown",
   "id": "9b6d2779",
   "metadata": {},
   "source": [
    "<p>When using the double forward slash (//) operator for integer division, the result is rounded down to the nearest integer.</p>"
   ]
  },
  {
   "cell_type": "code",
   "execution_count": null,
   "id": "2676049b",
   "metadata": {},
   "outputs": [],
   "source": [
    "# Integer division operation expression\n",
    "div2 = 13 // 3 #variable 'div2' stores the expressions 13//3\n",
    "print(div2)#prints its value"
   ]
  },
  {
   "cell_type": "markdown",
   "id": "a64e4f59",
   "metadata": {},
   "source": [
    "<p>We can perform multiplication using the asterisk (`*`) operator:</p>"
   ]
  },
  {
   "cell_type": "code",
   "execution_count": null,
   "id": "5d18b897",
   "metadata": {},
   "outputs": [],
   "source": [
    "mult = 33*3 #variable 'mult' stores the expressions 33*3\n",
    "print(mult)#prints its value"
   ]
  },
  {
   "cell_type": "markdown",
   "id": "b631ee8d",
   "metadata": {},
   "source": [
    "<h3 id=\"exer_exp\">Exercise: Practicing with Expressions and Variables</h3>"
   ]
  },
  {
   "cell_type": "markdown",
   "id": "e5386238",
   "metadata": {},
   "source": [
    "<p>Let's consider an example where we calculate the total cost of purchasing 4 items, each priced at $12.50: </p>\n"
   ]
  },
  {
   "cell_type": "code",
   "execution_count": null,
   "id": "b893da9d",
   "metadata": {},
   "outputs": [],
   "source": [
    "item_price = 12.50 #variable 'item_price' stores the value 12.50\n",
    "quantity = 4 #variable 'quantity' gets/store 4\n",
    "total_cost = item_price * quantity\n",
    "print(total_cost)#prints its value\n"
   ]
  },
  {
   "cell_type": "markdown",
   "id": "6af32de3",
   "metadata": {},
   "source": [
    "<p>When you run this code, the output will be 50.0, indicating that the total cost of purchasing 4 items priced at 12.50 each is 50.0.\n",
    "</p>"
   ]
  },
  {
   "cell_type": "code",
   "execution_count": null,
   "id": "8e6a6d12",
   "metadata": {},
   "outputs": [],
   "source": [
    "x = 3 + 2 * 2\n",
    "y = (3 + 2) * 2\n",
    "z = x + y\n",
    "print(z)"
   ]
  },
  {
   "cell_type": "code",
   "execution_count": null,
   "id": "71b66cd4",
   "metadata": {},
   "outputs": [],
   "source": []
  }
 ],
 "metadata": {
  "kernelspec": {
   "display_name": "Python 3 (ipykernel)",
   "language": "python",
   "name": "python3"
  },
  "language_info": {
   "codemirror_mode": {
    "name": "ipython",
    "version": 3
   },
   "file_extension": ".py",
   "mimetype": "text/x-python",
   "name": "python",
   "nbconvert_exporter": "python",
   "pygments_lexer": "ipython3",
   "version": "3.10.9"
  }
 },
 "nbformat": 4,
 "nbformat_minor": 5
}
